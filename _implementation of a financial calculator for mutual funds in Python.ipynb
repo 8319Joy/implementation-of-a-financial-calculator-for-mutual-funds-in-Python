{
 "cells": [
  {
   "cell_type": "code",
   "execution_count": 1,
   "id": "36014eaa",
   "metadata": {},
   "outputs": [
    {
     "name": "stdout",
     "output_type": "stream",
     "text": [
      "Enter the principal amount: 15000\n",
      "Enter the rate of return (in %): 10\n",
      "Enter the time in years: 7\n",
      "Simple Interest: 14230.76\n",
      "Compound Interest: 14230.76\n",
      "Maturity Value: 29230.76\n"
     ]
    }
   ],
   "source": [
    "class MutualFundCalculator:\n",
    "    def __init__(self):\n",
    "        self.principal = 0.0\n",
    "        self.rate_of_return = 0.0\n",
    "        self.time_in_years = 0\n",
    "\n",
    "    def get_details(self):\n",
    "        self.principal = float(input(\"Enter the principal amount: \"))\n",
    "        self.rate_of_return = float(input(\"Enter the rate of return (in %): \"))\n",
    "        self.time_in_years = float(input(\"Enter the time in years: \"))\n",
    "\n",
    "    def calculate_simple_interest(self):\n",
    "        si = self.principal * (1 + (self.rate_of_return / 100)) ** self.time_in_years - self.principal\n",
    "        return si\n",
    "\n",
    "    def calculate_compound_interest(self):\n",
    "        ci = self.principal * (1 + (self.rate_of_return / 100)) ** self.time_in_years - self.principal\n",
    "        return ci\n",
    "\n",
    "    def calculate_maturity_value(self):\n",
    "        maturity_value = self.principal * (1 + (self.rate_of_return / 100)) ** self.time_in_years\n",
    "        return maturity_value\n",
    "\n",
    "    def calculate_mutual_fund_value(self):\n",
    "        si = self.calculate_simple_interest()\n",
    "        ci = self.calculate_compound_interest()\n",
    "        maturity_value = self.calculate_maturity_value()\n",
    "        print(f\"Simple Interest: {si:.2f}\")\n",
    "        print(f\"Compound Interest: {ci:.2f}\")\n",
    "        print(f\"Maturity Value: {maturity_value:.2f}\")\n",
    "\n",
    "def main():\n",
    "    calculator = MutualFundCalculator()\n",
    "    calculator.get_details()\n",
    "    calculator.calculate_mutual_fund_value()\n",
    "\n",
    "if __name__ == \"__main__\":\n",
    "    main()"
   ]
  },
  {
   "cell_type": "code",
   "execution_count": null,
   "id": "1338d049",
   "metadata": {},
   "outputs": [],
   "source": []
  }
 ],
 "metadata": {
  "kernelspec": {
   "display_name": "Python 3 (ipykernel)",
   "language": "python",
   "name": "python3"
  },
  "language_info": {
   "codemirror_mode": {
    "name": "ipython",
    "version": 3
   },
   "file_extension": ".py",
   "mimetype": "text/x-python",
   "name": "python",
   "nbconvert_exporter": "python",
   "pygments_lexer": "ipython3",
   "version": "3.11.4"
  }
 },
 "nbformat": 4,
 "nbformat_minor": 5
}
